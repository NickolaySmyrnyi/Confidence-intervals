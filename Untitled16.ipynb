{
  "nbformat": 4,
  "nbformat_minor": 0,
  "metadata": {
    "colab": {
      "provenance": []
    },
    "kernelspec": {
      "name": "python3",
      "display_name": "Python 3"
    },
    "language_info": {
      "name": "python"
    }
  },
  "cells": [
    {
      "cell_type": "markdown",
      "source": [
        "Importing libraries"
      ],
      "metadata": {
        "id": "iW_olcIKYG4f"
      }
    },
    {
      "cell_type": "code",
      "execution_count": 1,
      "metadata": {
        "id": "OzUHxFZRtFru"
      },
      "outputs": [],
      "source": [
        "import pandas as pd\n",
        "from scipy.stats import t, norm\n",
        "import math"
      ]
    },
    {
      "cell_type": "markdown",
      "source": [
        "Collecting data"
      ],
      "metadata": {
        "id": "-6giAAq1YSRH"
      }
    },
    {
      "cell_type": "code",
      "source": [
        "df = pd.read_csv(\"PTS2_assignment4_BMI_data.csv\", header=None, sep=' ')\n",
        "df.columns = ['length', 'weight_before', 'weight_after']\n",
        "df.head()"
      ],
      "metadata": {
        "colab": {
          "base_uri": "https://localhost:8080/",
          "height": 206
        },
        "id": "cZ1mM6W9uG89",
        "outputId": "dc77c7a7-fed3-4ba3-8637-6b830a6ec782"
      },
      "execution_count": 2,
      "outputs": [
        {
          "output_type": "execute_result",
          "data": {
            "text/plain": [
              "   length  weight_before  weight_after\n",
              "0    1.86          85.71         83.09\n",
              "1    1.88          87.65         83.82\n",
              "2    1.56          51.90         44.49\n",
              "3    1.53          54.69         52.27\n",
              "4    1.63          60.27         58.34"
            ],
            "text/html": [
              "\n",
              "  <div id=\"df-685301a6-39da-4321-9f9e-b41a857322e8\">\n",
              "    <div class=\"colab-df-container\">\n",
              "      <div>\n",
              "<style scoped>\n",
              "    .dataframe tbody tr th:only-of-type {\n",
              "        vertical-align: middle;\n",
              "    }\n",
              "\n",
              "    .dataframe tbody tr th {\n",
              "        vertical-align: top;\n",
              "    }\n",
              "\n",
              "    .dataframe thead th {\n",
              "        text-align: right;\n",
              "    }\n",
              "</style>\n",
              "<table border=\"1\" class=\"dataframe\">\n",
              "  <thead>\n",
              "    <tr style=\"text-align: right;\">\n",
              "      <th></th>\n",
              "      <th>length</th>\n",
              "      <th>weight_before</th>\n",
              "      <th>weight_after</th>\n",
              "    </tr>\n",
              "  </thead>\n",
              "  <tbody>\n",
              "    <tr>\n",
              "      <th>0</th>\n",
              "      <td>1.86</td>\n",
              "      <td>85.71</td>\n",
              "      <td>83.09</td>\n",
              "    </tr>\n",
              "    <tr>\n",
              "      <th>1</th>\n",
              "      <td>1.88</td>\n",
              "      <td>87.65</td>\n",
              "      <td>83.82</td>\n",
              "    </tr>\n",
              "    <tr>\n",
              "      <th>2</th>\n",
              "      <td>1.56</td>\n",
              "      <td>51.90</td>\n",
              "      <td>44.49</td>\n",
              "    </tr>\n",
              "    <tr>\n",
              "      <th>3</th>\n",
              "      <td>1.53</td>\n",
              "      <td>54.69</td>\n",
              "      <td>52.27</td>\n",
              "    </tr>\n",
              "    <tr>\n",
              "      <th>4</th>\n",
              "      <td>1.63</td>\n",
              "      <td>60.27</td>\n",
              "      <td>58.34</td>\n",
              "    </tr>\n",
              "  </tbody>\n",
              "</table>\n",
              "</div>\n",
              "      <button class=\"colab-df-convert\" onclick=\"convertToInteractive('df-685301a6-39da-4321-9f9e-b41a857322e8')\"\n",
              "              title=\"Convert this dataframe to an interactive table.\"\n",
              "              style=\"display:none;\">\n",
              "        \n",
              "  <svg xmlns=\"http://www.w3.org/2000/svg\" height=\"24px\"viewBox=\"0 0 24 24\"\n",
              "       width=\"24px\">\n",
              "    <path d=\"M0 0h24v24H0V0z\" fill=\"none\"/>\n",
              "    <path d=\"M18.56 5.44l.94 2.06.94-2.06 2.06-.94-2.06-.94-.94-2.06-.94 2.06-2.06.94zm-11 1L8.5 8.5l.94-2.06 2.06-.94-2.06-.94L8.5 2.5l-.94 2.06-2.06.94zm10 10l.94 2.06.94-2.06 2.06-.94-2.06-.94-.94-2.06-.94 2.06-2.06.94z\"/><path d=\"M17.41 7.96l-1.37-1.37c-.4-.4-.92-.59-1.43-.59-.52 0-1.04.2-1.43.59L10.3 9.45l-7.72 7.72c-.78.78-.78 2.05 0 2.83L4 21.41c.39.39.9.59 1.41.59.51 0 1.02-.2 1.41-.59l7.78-7.78 2.81-2.81c.8-.78.8-2.07 0-2.86zM5.41 20L4 18.59l7.72-7.72 1.47 1.35L5.41 20z\"/>\n",
              "  </svg>\n",
              "      </button>\n",
              "      \n",
              "  <style>\n",
              "    .colab-df-container {\n",
              "      display:flex;\n",
              "      flex-wrap:wrap;\n",
              "      gap: 12px;\n",
              "    }\n",
              "\n",
              "    .colab-df-convert {\n",
              "      background-color: #E8F0FE;\n",
              "      border: none;\n",
              "      border-radius: 50%;\n",
              "      cursor: pointer;\n",
              "      display: none;\n",
              "      fill: #1967D2;\n",
              "      height: 32px;\n",
              "      padding: 0 0 0 0;\n",
              "      width: 32px;\n",
              "    }\n",
              "\n",
              "    .colab-df-convert:hover {\n",
              "      background-color: #E2EBFA;\n",
              "      box-shadow: 0px 1px 2px rgba(60, 64, 67, 0.3), 0px 1px 3px 1px rgba(60, 64, 67, 0.15);\n",
              "      fill: #174EA6;\n",
              "    }\n",
              "\n",
              "    [theme=dark] .colab-df-convert {\n",
              "      background-color: #3B4455;\n",
              "      fill: #D2E3FC;\n",
              "    }\n",
              "\n",
              "    [theme=dark] .colab-df-convert:hover {\n",
              "      background-color: #434B5C;\n",
              "      box-shadow: 0px 1px 3px 1px rgba(0, 0, 0, 0.15);\n",
              "      filter: drop-shadow(0px 1px 2px rgba(0, 0, 0, 0.3));\n",
              "      fill: #FFFFFF;\n",
              "    }\n",
              "  </style>\n",
              "\n",
              "      <script>\n",
              "        const buttonEl =\n",
              "          document.querySelector('#df-685301a6-39da-4321-9f9e-b41a857322e8 button.colab-df-convert');\n",
              "        buttonEl.style.display =\n",
              "          google.colab.kernel.accessAllowed ? 'block' : 'none';\n",
              "\n",
              "        async function convertToInteractive(key) {\n",
              "          const element = document.querySelector('#df-685301a6-39da-4321-9f9e-b41a857322e8');\n",
              "          const dataTable =\n",
              "            await google.colab.kernel.invokeFunction('convertToInteractive',\n",
              "                                                     [key], {});\n",
              "          if (!dataTable) return;\n",
              "\n",
              "          const docLinkHtml = 'Like what you see? Visit the ' +\n",
              "            '<a target=\"_blank\" href=https://colab.research.google.com/notebooks/data_table.ipynb>data table notebook</a>'\n",
              "            + ' to learn more about interactive tables.';\n",
              "          element.innerHTML = '';\n",
              "          dataTable['output_type'] = 'display_data';\n",
              "          await google.colab.output.renderOutput(dataTable, element);\n",
              "          const docLink = document.createElement('div');\n",
              "          docLink.innerHTML = docLinkHtml;\n",
              "          element.appendChild(docLink);\n",
              "        }\n",
              "      </script>\n",
              "    </div>\n",
              "  </div>\n",
              "  "
            ]
          },
          "metadata": {},
          "execution_count": 2
        }
      ]
    },
    {
      "cell_type": "markdown",
      "source": [
        "Setting given constants"
      ],
      "metadata": {
        "id": "tFtNQHpVYvZY"
      }
    },
    {
      "cell_type": "code",
      "source": [
        "alpha = 0.05\n",
        "n = 100"
      ],
      "metadata": {
        "id": "DBVE1pGVY06T"
      },
      "execution_count": 3,
      "outputs": []
    },
    {
      "cell_type": "markdown",
      "source": [
        "Task 3a"
      ],
      "metadata": {
        "id": "oSf5-HznbfoJ"
      }
    },
    {
      "cell_type": "code",
      "source": [
        "df['BMI_before'] = df['weight_before'] / df['length'] ** 2\n",
        "print('point estimate:', df['BMI_before'].mean())\n",
        "\n",
        "#here we use formula of CI for the population mean with unknown variance\n",
        "t_score = t.ppf(1 - alpha/2, n - 1)\n",
        "lower_bound = df['BMI_before'].mean() - t_score * df['BMI_before'].std() / math.sqrt(100)\n",
        "upper_bound = df['BMI_before'].mean() + t_score * df['BMI_before'].std() / math.sqrt(100)\n",
        "print('Confidence interval: (' + str(lower_bound) + ',', str(upper_bound) + ')')"
      ],
      "metadata": {
        "colab": {
          "base_uri": "https://localhost:8080/"
        },
        "id": "5fqqK7dYxuD8",
        "outputId": "30e1e71a-9769-4b82-f1dc-120e0e54f2a4"
      },
      "execution_count": 4,
      "outputs": [
        {
          "output_type": "stream",
          "name": "stdout",
          "text": [
            "point estimate: 24.28375746656986\n",
            "Confidence interval: (23.95105404072167, 24.61646089241805)\n"
          ]
        }
      ]
    },
    {
      "cell_type": "markdown",
      "source": [
        "Task 3b"
      ],
      "metadata": {
        "id": "eju7DEtYcrIo"
      }
    },
    {
      "cell_type": "code",
      "source": [
        "df['normal_weight'] = df['BMI_before'].apply(lambda x: x >= 18.5 and x <= 25)\n",
        "p_hat = df['normal_weight'].sum() / df['normal_weight'].count()\n",
        "print('point estimate:', p_hat)\n",
        "\n",
        "#here we use formula of CI for the population proportion\n",
        "lower_bound = p_hat - norm.ppf(1 - alpha / 2) * math.sqrt(p_hat * (1 - p_hat) / 100)\n",
        "upper_bound = p_hat + norm.ppf(1 - alpha / 2) * math.sqrt(p_hat * (1 - p_hat) / 100)\n",
        "print('Confidence interval: (' + str(lower_bound) + ',', str(upper_bound) + ')')"
      ],
      "metadata": {
        "colab": {
          "base_uri": "https://localhost:8080/"
        },
        "id": "V9P-D98t06E_",
        "outputId": "0c5d7a05-f0bb-4e27-ef0f-a632ae0ebb77"
      },
      "execution_count": 5,
      "outputs": [
        {
          "output_type": "stream",
          "name": "stdout",
          "text": [
            "point estimate: 0.69\n",
            "Confidence interval: (0.5993529900246857, 0.7806470099753142)\n"
          ]
        }
      ]
    },
    {
      "cell_type": "markdown",
      "source": [
        "Task 3c"
      ],
      "metadata": {
        "id": "snYPCCJJctU3"
      }
    },
    {
      "cell_type": "code",
      "source": [
        "df['BMI_after'] = df['weight_after'] / df['length'] ** 2\n",
        "df['difference_of_BMI'] = df['BMI_before'] - df['BMI_after']\n",
        "print('point estimate:', df['difference_of_BMI'].mean())\n",
        "\n",
        "#here we use formula for CI for the population mean with unknown variance\n",
        "t_score = t.ppf(1 - alpha/2, n - 1)\n",
        "lower_bound = df['difference_of_BMI'].mean() - t_score * df['difference_of_BMI'].std() / math.sqrt(100)\n",
        "upper_bound = df['difference_of_BMI'].mean() + t_score * df['difference_of_BMI'].std() / math.sqrt(100)\n",
        "print('Confidence interval: (' + str(lower_bound) + ',', str(upper_bound) + ')')"
      ],
      "metadata": {
        "colab": {
          "base_uri": "https://localhost:8080/"
        },
        "id": "kPmiFUil8OSB",
        "outputId": "6d70557c-64be-40ac-b78e-3da43b9ed5f1"
      },
      "execution_count": 6,
      "outputs": [
        {
          "output_type": "stream",
          "name": "stdout",
          "text": [
            "point estimate: 1.0921589997040249\n",
            "Confidence interval: (0.948360840872341, 1.2359571585357088)\n"
          ]
        }
      ]
    }
  ]
}